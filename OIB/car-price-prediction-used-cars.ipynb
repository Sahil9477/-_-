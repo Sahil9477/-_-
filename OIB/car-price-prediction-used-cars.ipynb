{
 "cells": [
  {
   "cell_type": "markdown",
   "id": "11e5cf7e",
   "metadata": {
    "id": "QSghHhtIzjV5",
    "papermill": {
     "duration": 0.012471,
     "end_time": "2022-09-20T07:06:24.883219",
     "exception": false,
     "start_time": "2022-09-20T07:06:24.870748",
     "status": "completed"
    },
    "tags": []
   },
   "source": [
    "Importing the Dependencies"
   ]
  },
  {
   "cell_type": "code",
   "execution_count": 1,
   "id": "75de9009",
   "metadata": {
    "execution": {
     "iopub.execute_input": "2022-09-20T07:06:24.908772Z",
     "iopub.status.busy": "2022-09-20T07:06:24.908171Z",
     "iopub.status.idle": "2022-09-20T07:06:26.798043Z",
     "shell.execute_reply": "2022-09-20T07:06:26.796041Z"
    },
    "id": "pNrkfaZWtJJ7",
    "papermill": {
     "duration": 1.908205,
     "end_time": "2022-09-20T07:06:26.800697",
     "exception": false,
     "start_time": "2022-09-20T07:06:24.892492",
     "status": "completed"
    },
    "tags": []
   },
   "outputs": [],
   "source": [
    "import pandas as pd\n",
    "import matplotlib.pyplot as plt\n",
    "import seaborn as sns\n",
    "from sklearn.model_selection import train_test_split\n",
    "from sklearn.linear_model import LinearRegression\n",
    "from sklearn.linear_model import Lasso\n",
    "from sklearn import metrics"
   ]
  },
  {
   "cell_type": "markdown",
   "id": "0d09b843",
   "metadata": {
    "id": "VrDd3I050OqH",
    "papermill": {
     "duration": 0.008638,
     "end_time": "2022-09-20T07:06:26.817861",
     "exception": false,
     "start_time": "2022-09-20T07:06:26.809223",
     "status": "completed"
    },
    "tags": []
   },
   "source": [
    "Data Collection and Processing"
   ]
  },
  {
   "cell_type": "code",
   "execution_count": 2,
   "id": "69c33d59",
   "metadata": {
    "execution": {
     "iopub.execute_input": "2022-09-20T07:06:26.837644Z",
     "iopub.status.busy": "2022-09-20T07:06:26.837223Z",
     "iopub.status.idle": "2022-09-20T07:06:26.868924Z",
     "shell.execute_reply": "2022-09-20T07:06:26.866807Z"
    },
    "id": "k0lBJoM90JHf",
    "papermill": {
     "duration": 0.045705,
     "end_time": "2022-09-20T07:06:26.872000",
     "exception": false,
     "start_time": "2022-09-20T07:06:26.826295",
     "status": "completed"
    },
    "tags": []
   },
   "outputs": [],
   "source": [
    "# loading the data from csv file to pandas dataframe\n",
    "car_dataset = pd.read_csv(\"../input/car-price-predictionused-cars/car data.csv\")"
   ]
  },
  {
   "cell_type": "code",
   "execution_count": 3,
   "id": "b72eb53f",
   "metadata": {
    "execution": {
     "iopub.execute_input": "2022-09-20T07:06:26.890392Z",
     "iopub.status.busy": "2022-09-20T07:06:26.890011Z",
     "iopub.status.idle": "2022-09-20T07:06:26.916318Z",
     "shell.execute_reply": "2022-09-20T07:06:26.914158Z"
    },
    "id": "9YKIoB-i0kIi",
    "outputId": "a93da269-9ee0-4ccd-9609-0c4089aada4c",
    "papermill": {
     "duration": 0.038397,
     "end_time": "2022-09-20T07:06:26.918892",
     "exception": false,
     "start_time": "2022-09-20T07:06:26.880495",
     "status": "completed"
    },
    "tags": []
   },
   "outputs": [
    {
     "data": {
      "text/html": [
       "<div>\n",
       "<style scoped>\n",
       "    .dataframe tbody tr th:only-of-type {\n",
       "        vertical-align: middle;\n",
       "    }\n",
       "\n",
       "    .dataframe tbody tr th {\n",
       "        vertical-align: top;\n",
       "    }\n",
       "\n",
       "    .dataframe thead th {\n",
       "        text-align: right;\n",
       "    }\n",
       "</style>\n",
       "<table border=\"1\" class=\"dataframe\">\n",
       "  <thead>\n",
       "    <tr style=\"text-align: right;\">\n",
       "      <th></th>\n",
       "      <th>Car_Name</th>\n",
       "      <th>Year</th>\n",
       "      <th>Selling_Price</th>\n",
       "      <th>Present_Price</th>\n",
       "      <th>Driven_kms</th>\n",
       "      <th>Fuel_Type</th>\n",
       "      <th>Selling_type</th>\n",
       "      <th>Transmission</th>\n",
       "      <th>Owner</th>\n",
       "    </tr>\n",
       "  </thead>\n",
       "  <tbody>\n",
       "    <tr>\n",
       "      <th>0</th>\n",
       "      <td>ritz</td>\n",
       "      <td>2014</td>\n",
       "      <td>3.35</td>\n",
       "      <td>5.59</td>\n",
       "      <td>27000</td>\n",
       "      <td>Petrol</td>\n",
       "      <td>Dealer</td>\n",
       "      <td>Manual</td>\n",
       "      <td>0</td>\n",
       "    </tr>\n",
       "    <tr>\n",
       "      <th>1</th>\n",
       "      <td>sx4</td>\n",
       "      <td>2013</td>\n",
       "      <td>4.75</td>\n",
       "      <td>9.54</td>\n",
       "      <td>43000</td>\n",
       "      <td>Diesel</td>\n",
       "      <td>Dealer</td>\n",
       "      <td>Manual</td>\n",
       "      <td>0</td>\n",
       "    </tr>\n",
       "    <tr>\n",
       "      <th>2</th>\n",
       "      <td>ciaz</td>\n",
       "      <td>2017</td>\n",
       "      <td>7.25</td>\n",
       "      <td>9.85</td>\n",
       "      <td>6900</td>\n",
       "      <td>Petrol</td>\n",
       "      <td>Dealer</td>\n",
       "      <td>Manual</td>\n",
       "      <td>0</td>\n",
       "    </tr>\n",
       "    <tr>\n",
       "      <th>3</th>\n",
       "      <td>wagon r</td>\n",
       "      <td>2011</td>\n",
       "      <td>2.85</td>\n",
       "      <td>4.15</td>\n",
       "      <td>5200</td>\n",
       "      <td>Petrol</td>\n",
       "      <td>Dealer</td>\n",
       "      <td>Manual</td>\n",
       "      <td>0</td>\n",
       "    </tr>\n",
       "    <tr>\n",
       "      <th>4</th>\n",
       "      <td>swift</td>\n",
       "      <td>2014</td>\n",
       "      <td>4.60</td>\n",
       "      <td>6.87</td>\n",
       "      <td>42450</td>\n",
       "      <td>Diesel</td>\n",
       "      <td>Dealer</td>\n",
       "      <td>Manual</td>\n",
       "      <td>0</td>\n",
       "    </tr>\n",
       "  </tbody>\n",
       "</table>\n",
       "</div>"
      ],
      "text/plain": [
       "  Car_Name  Year  Selling_Price  Present_Price  Driven_kms Fuel_Type  \\\n",
       "0     ritz  2014           3.35           5.59       27000    Petrol   \n",
       "1      sx4  2013           4.75           9.54       43000    Diesel   \n",
       "2     ciaz  2017           7.25           9.85        6900    Petrol   \n",
       "3  wagon r  2011           2.85           4.15        5200    Petrol   \n",
       "4    swift  2014           4.60           6.87       42450    Diesel   \n",
       "\n",
       "  Selling_type Transmission  Owner  \n",
       "0       Dealer       Manual      0  \n",
       "1       Dealer       Manual      0  \n",
       "2       Dealer       Manual      0  \n",
       "3       Dealer       Manual      0  \n",
       "4       Dealer       Manual      0  "
      ]
     },
     "execution_count": 3,
     "metadata": {},
     "output_type": "execute_result"
    }
   ],
   "source": [
    "# inspecting the first 5 rows of the dataframe\n",
    "car_dataset.head()"
   ]
  },
  {
   "cell_type": "code",
   "execution_count": 4,
   "id": "533369bb",
   "metadata": {
    "execution": {
     "iopub.execute_input": "2022-09-20T07:06:26.940946Z",
     "iopub.status.busy": "2022-09-20T07:06:26.940552Z",
     "iopub.status.idle": "2022-09-20T07:06:26.948733Z",
     "shell.execute_reply": "2022-09-20T07:06:26.946888Z"
    },
    "id": "rpNJj7TN0s0F",
    "outputId": "36d2e6e0-b5cc-4a7f-8aeb-9718635b831e",
    "papermill": {
     "duration": 0.021645,
     "end_time": "2022-09-20T07:06:26.951568",
     "exception": false,
     "start_time": "2022-09-20T07:06:26.929923",
     "status": "completed"
    },
    "tags": []
   },
   "outputs": [
    {
     "data": {
      "text/plain": [
       "(301, 9)"
      ]
     },
     "execution_count": 4,
     "metadata": {},
     "output_type": "execute_result"
    }
   ],
   "source": [
    "# checking the number of rows and columns\n",
    "car_dataset.shape"
   ]
  },
  {
   "cell_type": "code",
   "execution_count": 5,
   "id": "09e7abe2",
   "metadata": {
    "execution": {
     "iopub.execute_input": "2022-09-20T07:06:26.974333Z",
     "iopub.status.busy": "2022-09-20T07:06:26.973502Z",
     "iopub.status.idle": "2022-09-20T07:06:26.985238Z",
     "shell.execute_reply": "2022-09-20T07:06:26.983185Z"
    },
    "id": "wZSbDnmM1O_V",
    "outputId": "465be07c-6ccb-48a0-b070-16dc7bf4ff2d",
    "papermill": {
     "duration": 0.026116,
     "end_time": "2022-09-20T07:06:26.987802",
     "exception": false,
     "start_time": "2022-09-20T07:06:26.961686",
     "status": "completed"
    },
    "tags": []
   },
   "outputs": [
    {
     "data": {
      "text/plain": [
       "Car_Name         0\n",
       "Year             0\n",
       "Selling_Price    0\n",
       "Present_Price    0\n",
       "Driven_kms       0\n",
       "Fuel_Type        0\n",
       "Selling_type     0\n",
       "Transmission     0\n",
       "Owner            0\n",
       "dtype: int64"
      ]
     },
     "execution_count": 5,
     "metadata": {},
     "output_type": "execute_result"
    }
   ],
   "source": [
    "# checking the number of missing values\n",
    "car_dataset.isnull().sum()"
   ]
  },
  {
   "cell_type": "code",
   "execution_count": 6,
   "id": "a4cd0b60",
   "metadata": {
    "execution": {
     "iopub.execute_input": "2022-09-20T07:06:27.008497Z",
     "iopub.status.busy": "2022-09-20T07:06:27.007904Z",
     "iopub.status.idle": "2022-09-20T07:06:27.035420Z",
     "shell.execute_reply": "2022-09-20T07:06:27.033392Z"
    },
    "id": "uxeZ9Px708Ek",
    "outputId": "5ae1ae01-a3bc-4157-ff16-f246daadc036",
    "papermill": {
     "duration": 0.042471,
     "end_time": "2022-09-20T07:06:27.039260",
     "exception": false,
     "start_time": "2022-09-20T07:06:26.996789",
     "status": "completed"
    },
    "tags": []
   },
   "outputs": [
    {
     "name": "stdout",
     "output_type": "stream",
     "text": [
      "<class 'pandas.core.frame.DataFrame'>\n",
      "RangeIndex: 301 entries, 0 to 300\n",
      "Data columns (total 9 columns):\n",
      " #   Column         Non-Null Count  Dtype  \n",
      "---  ------         --------------  -----  \n",
      " 0   Car_Name       301 non-null    object \n",
      " 1   Year           301 non-null    int64  \n",
      " 2   Selling_Price  301 non-null    float64\n",
      " 3   Present_Price  301 non-null    float64\n",
      " 4   Driven_kms     301 non-null    int64  \n",
      " 5   Fuel_Type      301 non-null    object \n",
      " 6   Selling_type   301 non-null    object \n",
      " 7   Transmission   301 non-null    object \n",
      " 8   Owner          301 non-null    int64  \n",
      "dtypes: float64(2), int64(3), object(4)\n",
      "memory usage: 21.3+ KB\n"
     ]
    }
   ],
   "source": [
    "# getting some information about the dataset\n",
    "car_dataset.info()"
   ]
  },
  {
   "cell_type": "code",
   "execution_count": 7,
   "id": "bb7c7c84",
   "metadata": {
    "execution": {
     "iopub.execute_input": "2022-09-20T07:06:27.062044Z",
     "iopub.status.busy": "2022-09-20T07:06:27.060326Z",
     "iopub.status.idle": "2022-09-20T07:06:27.070337Z",
     "shell.execute_reply": "2022-09-20T07:06:27.068922Z"
    },
    "id": "jKeM03IO1kSz",
    "outputId": "38b31e74-d333-45ff-b96f-9c787178de2d",
    "papermill": {
     "duration": 0.026365,
     "end_time": "2022-09-20T07:06:27.075055",
     "exception": false,
     "start_time": "2022-09-20T07:06:27.048690",
     "status": "completed"
    },
    "tags": []
   },
   "outputs": [
    {
     "name": "stdout",
     "output_type": "stream",
     "text": [
      "Petrol    239\n",
      "Diesel     60\n",
      "CNG         2\n",
      "Name: Fuel_Type, dtype: int64\n",
      "Dealer        195\n",
      "Individual    106\n",
      "Name: Selling_type, dtype: int64\n",
      "Manual       261\n",
      "Automatic     40\n",
      "Name: Transmission, dtype: int64\n"
     ]
    }
   ],
   "source": [
    "# checking the distribution of categorical data\n",
    "print(car_dataset.Fuel_Type.value_counts())\n",
    "print(car_dataset.Selling_type.value_counts())\n",
    "print(car_dataset.Transmission.value_counts())"
   ]
  },
  {
   "cell_type": "markdown",
   "id": "c6e387dd",
   "metadata": {
    "id": "VxzeLJqT2k1t",
    "papermill": {
     "duration": 0.010782,
     "end_time": "2022-09-20T07:06:27.101678",
     "exception": false,
     "start_time": "2022-09-20T07:06:27.090896",
     "status": "completed"
    },
    "tags": []
   },
   "source": [
    "Encoding the Categorical Data"
   ]
  },
  {
   "cell_type": "code",
   "execution_count": 8,
   "id": "9b47e680",
   "metadata": {
    "execution": {
     "iopub.execute_input": "2022-09-20T07:06:27.126772Z",
     "iopub.status.busy": "2022-09-20T07:06:27.125500Z",
     "iopub.status.idle": "2022-09-20T07:06:27.142111Z",
     "shell.execute_reply": "2022-09-20T07:06:27.140444Z"
    },
    "id": "fNbLsAdU2LAA",
    "papermill": {
     "duration": 0.030539,
     "end_time": "2022-09-20T07:06:27.145201",
     "exception": false,
     "start_time": "2022-09-20T07:06:27.114662",
     "status": "completed"
    },
    "tags": []
   },
   "outputs": [],
   "source": [
    "# encoding \"Fuel_Type\" Column\n",
    "car_dataset.replace({'Fuel_Type':{'Petrol':0,'Diesel':1,'CNG':2}},inplace=True)\n",
    "\n",
    "# encoding \"Seller_Type\" Column\n",
    "car_dataset.replace({'Selling_type':{'Dealer':0,'Individual':1}},inplace=True)\n",
    "\n",
    "# encoding \"Transmission\" Column\n",
    "car_dataset.replace({'Transmission':{'Manual':0,'Automatic':1}},inplace=True)"
   ]
  },
  {
   "cell_type": "code",
   "execution_count": 9,
   "id": "65ffc475",
   "metadata": {
    "execution": {
     "iopub.execute_input": "2022-09-20T07:06:27.166365Z",
     "iopub.status.busy": "2022-09-20T07:06:27.165344Z",
     "iopub.status.idle": "2022-09-20T07:06:27.187111Z",
     "shell.execute_reply": "2022-09-20T07:06:27.184754Z"
    },
    "id": "dR-puwbW3UZc",
    "outputId": "e9c54493-8732-434e-88f6-083a9474acfc",
    "papermill": {
     "duration": 0.034946,
     "end_time": "2022-09-20T07:06:27.190036",
     "exception": false,
     "start_time": "2022-09-20T07:06:27.155090",
     "status": "completed"
    },
    "tags": []
   },
   "outputs": [
    {
     "data": {
      "text/html": [
       "<div>\n",
       "<style scoped>\n",
       "    .dataframe tbody tr th:only-of-type {\n",
       "        vertical-align: middle;\n",
       "    }\n",
       "\n",
       "    .dataframe tbody tr th {\n",
       "        vertical-align: top;\n",
       "    }\n",
       "\n",
       "    .dataframe thead th {\n",
       "        text-align: right;\n",
       "    }\n",
       "</style>\n",
       "<table border=\"1\" class=\"dataframe\">\n",
       "  <thead>\n",
       "    <tr style=\"text-align: right;\">\n",
       "      <th></th>\n",
       "      <th>Car_Name</th>\n",
       "      <th>Year</th>\n",
       "      <th>Selling_Price</th>\n",
       "      <th>Present_Price</th>\n",
       "      <th>Driven_kms</th>\n",
       "      <th>Fuel_Type</th>\n",
       "      <th>Selling_type</th>\n",
       "      <th>Transmission</th>\n",
       "      <th>Owner</th>\n",
       "    </tr>\n",
       "  </thead>\n",
       "  <tbody>\n",
       "    <tr>\n",
       "      <th>0</th>\n",
       "      <td>ritz</td>\n",
       "      <td>2014</td>\n",
       "      <td>3.35</td>\n",
       "      <td>5.59</td>\n",
       "      <td>27000</td>\n",
       "      <td>0</td>\n",
       "      <td>0</td>\n",
       "      <td>0</td>\n",
       "      <td>0</td>\n",
       "    </tr>\n",
       "    <tr>\n",
       "      <th>1</th>\n",
       "      <td>sx4</td>\n",
       "      <td>2013</td>\n",
       "      <td>4.75</td>\n",
       "      <td>9.54</td>\n",
       "      <td>43000</td>\n",
       "      <td>1</td>\n",
       "      <td>0</td>\n",
       "      <td>0</td>\n",
       "      <td>0</td>\n",
       "    </tr>\n",
       "    <tr>\n",
       "      <th>2</th>\n",
       "      <td>ciaz</td>\n",
       "      <td>2017</td>\n",
       "      <td>7.25</td>\n",
       "      <td>9.85</td>\n",
       "      <td>6900</td>\n",
       "      <td>0</td>\n",
       "      <td>0</td>\n",
       "      <td>0</td>\n",
       "      <td>0</td>\n",
       "    </tr>\n",
       "    <tr>\n",
       "      <th>3</th>\n",
       "      <td>wagon r</td>\n",
       "      <td>2011</td>\n",
       "      <td>2.85</td>\n",
       "      <td>4.15</td>\n",
       "      <td>5200</td>\n",
       "      <td>0</td>\n",
       "      <td>0</td>\n",
       "      <td>0</td>\n",
       "      <td>0</td>\n",
       "    </tr>\n",
       "    <tr>\n",
       "      <th>4</th>\n",
       "      <td>swift</td>\n",
       "      <td>2014</td>\n",
       "      <td>4.60</td>\n",
       "      <td>6.87</td>\n",
       "      <td>42450</td>\n",
       "      <td>1</td>\n",
       "      <td>0</td>\n",
       "      <td>0</td>\n",
       "      <td>0</td>\n",
       "    </tr>\n",
       "  </tbody>\n",
       "</table>\n",
       "</div>"
      ],
      "text/plain": [
       "  Car_Name  Year  Selling_Price  Present_Price  Driven_kms  Fuel_Type  \\\n",
       "0     ritz  2014           3.35           5.59       27000          0   \n",
       "1      sx4  2013           4.75           9.54       43000          1   \n",
       "2     ciaz  2017           7.25           9.85        6900          0   \n",
       "3  wagon r  2011           2.85           4.15        5200          0   \n",
       "4    swift  2014           4.60           6.87       42450          1   \n",
       "\n",
       "   Selling_type  Transmission  Owner  \n",
       "0             0             0      0  \n",
       "1             0             0      0  \n",
       "2             0             0      0  \n",
       "3             0             0      0  \n",
       "4             0             0      0  "
      ]
     },
     "execution_count": 9,
     "metadata": {},
     "output_type": "execute_result"
    }
   ],
   "source": [
    "car_dataset.head()"
   ]
  },
  {
   "cell_type": "markdown",
   "id": "5d85959e",
   "metadata": {
    "id": "d2AVNy1h3kni",
    "papermill": {
     "duration": 0.010146,
     "end_time": "2022-09-20T07:06:27.210571",
     "exception": false,
     "start_time": "2022-09-20T07:06:27.200425",
     "status": "completed"
    },
    "tags": []
   },
   "source": [
    "Splitting the data and Target"
   ]
  },
  {
   "cell_type": "code",
   "execution_count": 10,
   "id": "14dcd32d",
   "metadata": {
    "execution": {
     "iopub.execute_input": "2022-09-20T07:06:27.236189Z",
     "iopub.status.busy": "2022-09-20T07:06:27.235818Z",
     "iopub.status.idle": "2022-09-20T07:06:27.244525Z",
     "shell.execute_reply": "2022-09-20T07:06:27.242847Z"
    },
    "id": "XHdzrIlV3baN",
    "papermill": {
     "duration": 0.024348,
     "end_time": "2022-09-20T07:06:27.246849",
     "exception": false,
     "start_time": "2022-09-20T07:06:27.222501",
     "status": "completed"
    },
    "tags": []
   },
   "outputs": [],
   "source": [
    "X = car_dataset.drop(['Car_Name','Selling_Price'],axis=1)\n",
    "Y = car_dataset['Selling_Price']"
   ]
  },
  {
   "cell_type": "code",
   "execution_count": 11,
   "id": "20cd5a27",
   "metadata": {
    "execution": {
     "iopub.execute_input": "2022-09-20T07:06:27.268674Z",
     "iopub.status.busy": "2022-09-20T07:06:27.268248Z",
     "iopub.status.idle": "2022-09-20T07:06:27.281013Z",
     "shell.execute_reply": "2022-09-20T07:06:27.279235Z"
    },
    "id": "vJKZIXOI4ISG",
    "outputId": "3fad7937-d585-4548-8406-e05ad3979cd3",
    "papermill": {
     "duration": 0.027766,
     "end_time": "2022-09-20T07:06:27.284142",
     "exception": false,
     "start_time": "2022-09-20T07:06:27.256376",
     "status": "completed"
    },
    "tags": []
   },
   "outputs": [
    {
     "name": "stdout",
     "output_type": "stream",
     "text": [
      "     Year  Present_Price  Driven_kms  Fuel_Type  Selling_type  Transmission  \\\n",
      "0    2014           5.59       27000          0             0             0   \n",
      "1    2013           9.54       43000          1             0             0   \n",
      "2    2017           9.85        6900          0             0             0   \n",
      "3    2011           4.15        5200          0             0             0   \n",
      "4    2014           6.87       42450          1             0             0   \n",
      "..    ...            ...         ...        ...           ...           ...   \n",
      "296  2016          11.60       33988          1             0             0   \n",
      "297  2015           5.90       60000          0             0             0   \n",
      "298  2009          11.00       87934          0             0             0   \n",
      "299  2017          12.50        9000          1             0             0   \n",
      "300  2016           5.90        5464          0             0             0   \n",
      "\n",
      "     Owner  \n",
      "0        0  \n",
      "1        0  \n",
      "2        0  \n",
      "3        0  \n",
      "4        0  \n",
      "..     ...  \n",
      "296      0  \n",
      "297      0  \n",
      "298      0  \n",
      "299      0  \n",
      "300      0  \n",
      "\n",
      "[301 rows x 7 columns]\n"
     ]
    }
   ],
   "source": [
    "print(X)"
   ]
  },
  {
   "cell_type": "code",
   "execution_count": 12,
   "id": "d44e3268",
   "metadata": {
    "execution": {
     "iopub.execute_input": "2022-09-20T07:06:27.307500Z",
     "iopub.status.busy": "2022-09-20T07:06:27.307098Z",
     "iopub.status.idle": "2022-09-20T07:06:27.315699Z",
     "shell.execute_reply": "2022-09-20T07:06:27.313556Z"
    },
    "id": "U5LIqrS54N9W",
    "outputId": "fbd88554-b262-403f-e20f-d30c431dc05b",
    "papermill": {
     "duration": 0.023073,
     "end_time": "2022-09-20T07:06:27.318281",
     "exception": false,
     "start_time": "2022-09-20T07:06:27.295208",
     "status": "completed"
    },
    "tags": []
   },
   "outputs": [
    {
     "name": "stdout",
     "output_type": "stream",
     "text": [
      "0       3.35\n",
      "1       4.75\n",
      "2       7.25\n",
      "3       2.85\n",
      "4       4.60\n",
      "       ...  \n",
      "296     9.50\n",
      "297     4.00\n",
      "298     3.35\n",
      "299    11.50\n",
      "300     5.30\n",
      "Name: Selling_Price, Length: 301, dtype: float64\n"
     ]
    }
   ],
   "source": [
    "print(Y)"
   ]
  },
  {
   "cell_type": "markdown",
   "id": "9858f51b",
   "metadata": {
    "id": "w62e_VA84ZIS",
    "papermill": {
     "duration": 0.010799,
     "end_time": "2022-09-20T07:06:27.340666",
     "exception": false,
     "start_time": "2022-09-20T07:06:27.329867",
     "status": "completed"
    },
    "tags": []
   },
   "source": [
    "Splitting Training and Test data"
   ]
  },
  {
   "cell_type": "code",
   "execution_count": 13,
   "id": "e12ca990",
   "metadata": {
    "execution": {
     "iopub.execute_input": "2022-09-20T07:06:27.364411Z",
     "iopub.status.busy": "2022-09-20T07:06:27.364064Z",
     "iopub.status.idle": "2022-09-20T07:06:27.372959Z",
     "shell.execute_reply": "2022-09-20T07:06:27.371211Z"
    },
    "id": "p2cYl_Nw4SQ3",
    "papermill": {
     "duration": 0.023427,
     "end_time": "2022-09-20T07:06:27.375679",
     "exception": false,
     "start_time": "2022-09-20T07:06:27.352252",
     "status": "completed"
    },
    "tags": []
   },
   "outputs": [],
   "source": [
    "X_train, X_test, Y_train, Y_test = train_test_split(X, Y, test_size = 0.1, random_state=2)"
   ]
  },
  {
   "cell_type": "markdown",
   "id": "9508b8a6",
   "metadata": {
    "id": "ocyzVLOc5K6D",
    "papermill": {
     "duration": 0.008964,
     "end_time": "2022-09-20T07:06:27.394290",
     "exception": false,
     "start_time": "2022-09-20T07:06:27.385326",
     "status": "completed"
    },
    "tags": []
   },
   "source": [
    "Model Training"
   ]
  },
  {
   "cell_type": "markdown",
   "id": "b604a511",
   "metadata": {
    "id": "CTzEpu6F5M5A",
    "papermill": {
     "duration": 0.009564,
     "end_time": "2022-09-20T07:06:27.413691",
     "exception": false,
     "start_time": "2022-09-20T07:06:27.404127",
     "status": "completed"
    },
    "tags": []
   },
   "source": [
    "1. Linear Regression"
   ]
  },
  {
   "cell_type": "code",
   "execution_count": 14,
   "id": "7e22424d",
   "metadata": {
    "execution": {
     "iopub.execute_input": "2022-09-20T07:06:27.435000Z",
     "iopub.status.busy": "2022-09-20T07:06:27.433951Z",
     "iopub.status.idle": "2022-09-20T07:06:27.440727Z",
     "shell.execute_reply": "2022-09-20T07:06:27.439074Z"
    },
    "id": "iLqTMiKd5IWH",
    "papermill": {
     "duration": 0.020288,
     "end_time": "2022-09-20T07:06:27.443378",
     "exception": false,
     "start_time": "2022-09-20T07:06:27.423090",
     "status": "completed"
    },
    "tags": []
   },
   "outputs": [],
   "source": [
    "# loading the linear regression model\n",
    "lin_reg_model = LinearRegression()"
   ]
  },
  {
   "cell_type": "code",
   "execution_count": 15,
   "id": "100dd68b",
   "metadata": {
    "execution": {
     "iopub.execute_input": "2022-09-20T07:06:27.465822Z",
     "iopub.status.busy": "2022-09-20T07:06:27.464628Z",
     "iopub.status.idle": "2022-09-20T07:06:27.514251Z",
     "shell.execute_reply": "2022-09-20T07:06:27.509393Z"
    },
    "id": "UWUCK59R5Z4X",
    "outputId": "f4121bc7-20bb-4676-aa55-1c069567e28c",
    "papermill": {
     "duration": 0.065127,
     "end_time": "2022-09-20T07:06:27.519111",
     "exception": false,
     "start_time": "2022-09-20T07:06:27.453984",
     "status": "completed"
    },
    "tags": []
   },
   "outputs": [
    {
     "data": {
      "text/plain": [
       "LinearRegression()"
      ]
     },
     "execution_count": 15,
     "metadata": {},
     "output_type": "execute_result"
    }
   ],
   "source": [
    "lin_reg_model.fit(X_train,Y_train)"
   ]
  },
  {
   "cell_type": "markdown",
   "id": "895e2315",
   "metadata": {
    "id": "XB7PuuTM5nu_",
    "papermill": {
     "duration": 0.01437,
     "end_time": "2022-09-20T07:06:27.545850",
     "exception": false,
     "start_time": "2022-09-20T07:06:27.531480",
     "status": "completed"
    },
    "tags": []
   },
   "source": [
    "Model Evaluation"
   ]
  },
  {
   "cell_type": "code",
   "execution_count": 16,
   "id": "216bffbf",
   "metadata": {
    "execution": {
     "iopub.execute_input": "2022-09-20T07:06:27.575868Z",
     "iopub.status.busy": "2022-09-20T07:06:27.575473Z",
     "iopub.status.idle": "2022-09-20T07:06:27.584624Z",
     "shell.execute_reply": "2022-09-20T07:06:27.583136Z"
    },
    "id": "u8Wu4xMD5iW8",
    "papermill": {
     "duration": 0.028585,
     "end_time": "2022-09-20T07:06:27.588926",
     "exception": false,
     "start_time": "2022-09-20T07:06:27.560341",
     "status": "completed"
    },
    "tags": []
   },
   "outputs": [],
   "source": [
    "# prediction on Training data\n",
    "training_data_prediction = lin_reg_model.predict(X_train)"
   ]
  },
  {
   "cell_type": "code",
   "execution_count": 17,
   "id": "f247d1f5",
   "metadata": {
    "execution": {
     "iopub.execute_input": "2022-09-20T07:06:27.615853Z",
     "iopub.status.busy": "2022-09-20T07:06:27.615447Z",
     "iopub.status.idle": "2022-09-20T07:06:27.623482Z",
     "shell.execute_reply": "2022-09-20T07:06:27.621510Z"
    },
    "id": "JdHP3HWx528E",
    "outputId": "dcbc833d-5902-448c-b0d4-6c4d736d2ca7",
    "papermill": {
     "duration": 0.023154,
     "end_time": "2022-09-20T07:06:27.626130",
     "exception": false,
     "start_time": "2022-09-20T07:06:27.602976",
     "status": "completed"
    },
    "tags": []
   },
   "outputs": [
    {
     "name": "stdout",
     "output_type": "stream",
     "text": [
      "R squared Error :  0.8796483009370215\n"
     ]
    }
   ],
   "source": [
    "# R squared Error\n",
    "error_score = metrics.r2_score(Y_train, training_data_prediction)\n",
    "print(\"R squared Error : \", error_score)"
   ]
  },
  {
   "cell_type": "markdown",
   "id": "ac9c11ea",
   "metadata": {
    "id": "b3RfnkFq6jrH",
    "papermill": {
     "duration": 0.010973,
     "end_time": "2022-09-20T07:06:27.647779",
     "exception": false,
     "start_time": "2022-09-20T07:06:27.636806",
     "status": "completed"
    },
    "tags": []
   },
   "source": [
    "Visualize the actual prices and Predicted prices"
   ]
  },
  {
   "cell_type": "code",
   "execution_count": 18,
   "id": "35738ed4",
   "metadata": {
    "execution": {
     "iopub.execute_input": "2022-09-20T07:06:27.688067Z",
     "iopub.status.busy": "2022-09-20T07:06:27.687636Z",
     "iopub.status.idle": "2022-09-20T07:06:27.935059Z",
     "shell.execute_reply": "2022-09-20T07:06:27.933949Z"
    },
    "id": "5jukF7Vc6P48",
    "outputId": "d0ff36d3-f10a-4d5b-bc52-51d7bea91771",
    "papermill": {
     "duration": 0.272384,
     "end_time": "2022-09-20T07:06:27.937203",
     "exception": false,
     "start_time": "2022-09-20T07:06:27.664819",
     "status": "completed"
    },
    "tags": []
   },
   "outputs": [
    {
     "data": {
      "image/png": "[encoded data removed]",
      "text/plain": [
       "<Figure size 432x288 with 1 Axes>"
      ]
     },
     "metadata": {
      "needs_background": "light"
     },
     "output_type": "display_data"
    }
   ],
   "source": [
    "plt.scatter(Y_train, training_data_prediction)\n",
    "plt.xlabel(\"Actual Price\")\n",
    "plt.ylabel(\"Predicted Price\")\n",
    "plt.title(\" Actual Prices vs Predicted Prices\")\n",
    "plt.show()"
   ]
  },
  {
   "cell_type": "code",
   "execution_count": 19,
   "id": "e9862068",
   "metadata": {
    "execution": {
     "iopub.execute_input": "2022-09-20T07:06:27.958947Z",
     "iopub.status.busy": "2022-09-20T07:06:27.958506Z",
     "iopub.status.idle": "2022-09-20T07:06:27.966301Z",
     "shell.execute_reply": "2022-09-20T07:06:27.964008Z"
    },
    "id": "iJUq-DiM69fn",
    "papermill": {
     "duration": 0.022482,
     "end_time": "2022-09-20T07:06:27.969614",
     "exception": false,
     "start_time": "2022-09-20T07:06:27.947132",
     "status": "completed"
    },
    "tags": []
   },
   "outputs": [],
   "source": [
    "# prediction on Training data\n",
    "test_data_prediction = lin_reg_model.predict(X_test)"
   ]
  },
  {
   "cell_type": "code",
   "execution_count": 20,
   "id": "1478becc",
   "metadata": {
    "execution": {
     "iopub.execute_input": "2022-09-20T07:06:27.992066Z",
     "iopub.status.busy": "2022-09-20T07:06:27.991698Z",
     "iopub.status.idle": "2022-09-20T07:06:27.999172Z",
     "shell.execute_reply": "2022-09-20T07:06:27.997220Z"
    },
    "id": "e9h4glEM7XJ1",
    "outputId": "eb36d7ba-6a9d-4214-ea46-00c2bbe5f9c7",
    "papermill": {
     "duration": 0.022318,
     "end_time": "2022-09-20T07:06:28.001908",
     "exception": false,
     "start_time": "2022-09-20T07:06:27.979590",
     "status": "completed"
    },
    "tags": []
   },
   "outputs": [
    {
     "name": "stdout",
     "output_type": "stream",
     "text": [
      "R squared Error :  0.8365861023210703\n"
     ]
    }
   ],
   "source": [
    "# R squared Error\n",
    "error_score = metrics.r2_score(Y_test, test_data_prediction)\n",
    "print(\"R squared Error : \", error_score)"
   ]
  },
  {
   "cell_type": "code",
   "execution_count": 21,
   "id": "d06f993b",
   "metadata": {
    "execution": {
     "iopub.execute_input": "2022-09-20T07:06:28.024804Z",
     "iopub.status.busy": "2022-09-20T07:06:28.023805Z",
     "iopub.status.idle": "2022-09-20T07:06:28.191028Z",
     "shell.execute_reply": "2022-09-20T07:06:28.190199Z"
    },
    "id": "0yP0uxcr7gUE",
    "outputId": "3d1bb3ea-b0ca-4fc6-eaad-5d1ed148bd73",
    "papermill": {
     "duration": 0.180474,
     "end_time": "2022-09-20T07:06:28.192735",
     "exception": false,
     "start_time": "2022-09-20T07:06:28.012261",
     "status": "completed"
    },
    "tags": []
   },
   "outputs": [
    {
     "data": {
      "image/png": "[encoded data removed]",
      "text/plain": [
       "<Figure size 432x288 with 1 Axes>"
      ]
     },
     "metadata": {
      "needs_background": "light"
     },
     "output_type": "display_data"
    }
   ],
   "source": [
    "plt.scatter(Y_test, test_data_prediction)\n",
    "plt.xlabel(\"Actual Price\")\n",
    "plt.ylabel(\"Predicted Price\")\n",
    "plt.title(\" Actual Prices vs Predicted Prices\")\n",
    "plt.show()"
   ]
  },
  {
   "cell_type": "markdown",
   "id": "f444cc70",
   "metadata": {
    "id": "flNiLHUZ78Mb",
    "papermill": {
     "duration": 0.009527,
     "end_time": "2022-09-20T07:06:28.212271",
     "exception": false,
     "start_time": "2022-09-20T07:06:28.202744",
     "status": "completed"
    },
    "tags": []
   },
   "source": [
    "2. Lasso Regression"
   ]
  },
  {
   "cell_type": "code",
   "execution_count": 22,
   "id": "69e58151",
   "metadata": {
    "execution": {
     "iopub.execute_input": "2022-09-20T07:06:28.233770Z",
     "iopub.status.busy": "2022-09-20T07:06:28.233186Z",
     "iopub.status.idle": "2022-09-20T07:06:28.237502Z",
     "shell.execute_reply": "2022-09-20T07:06:28.236281Z"
    },
    "id": "govWJZHc8H4J",
    "papermill": {
     "duration": 0.017804,
     "end_time": "2022-09-20T07:06:28.239882",
     "exception": false,
     "start_time": "2022-09-20T07:06:28.222078",
     "status": "completed"
    },
    "tags": []
   },
   "outputs": [],
   "source": [
    "# loading the linear regression model\n",
    "lass_reg_model = Lasso()"
   ]
  },
  {
   "cell_type": "code",
   "execution_count": 23,
   "id": "06151a2d",
   "metadata": {
    "execution": {
     "iopub.execute_input": "2022-09-20T07:06:28.262793Z",
     "iopub.status.busy": "2022-09-20T07:06:28.262181Z",
     "iopub.status.idle": "2022-09-20T07:06:28.274110Z",
     "shell.execute_reply": "2022-09-20T07:06:28.272664Z"
    },
    "id": "N0HnZA1x8H4s",
    "outputId": "f832e917-602e-46e5-ddad-fc2bf9b64466",
    "papermill": {
     "duration": 0.027068,
     "end_time": "2022-09-20T07:06:28.277062",
     "exception": false,
     "start_time": "2022-09-20T07:06:28.249994",
     "status": "completed"
    },
    "tags": []
   },
   "outputs": [
    {
     "data": {
      "text/plain": [
       "Lasso()"
      ]
     },
     "execution_count": 23,
     "metadata": {},
     "output_type": "execute_result"
    }
   ],
   "source": [
    "lass_reg_model.fit(X_train,Y_train)"
   ]
  },
  {
   "cell_type": "markdown",
   "id": "8727f9be",
   "metadata": {
    "id": "Lc9Fljj68H46",
    "papermill": {
     "duration": 0.010928,
     "end_time": "2022-09-20T07:06:28.298906",
     "exception": false,
     "start_time": "2022-09-20T07:06:28.287978",
     "status": "completed"
    },
    "tags": []
   },
   "source": [
    "Model Evaluation"
   ]
  },
  {
   "cell_type": "code",
   "execution_count": 24,
   "id": "47964ee0",
   "metadata": {
    "execution": {
     "iopub.execute_input": "2022-09-20T07:06:28.322647Z",
     "iopub.status.busy": "2022-09-20T07:06:28.321452Z",
     "iopub.status.idle": "2022-09-20T07:06:28.329173Z",
     "shell.execute_reply": "2022-09-20T07:06:28.326991Z"
    },
    "id": "mkcC344U8H48",
    "papermill": {
     "duration": 0.022236,
     "end_time": "2022-09-20T07:06:28.331907",
     "exception": false,
     "start_time": "2022-09-20T07:06:28.309671",
     "status": "completed"
    },
    "tags": []
   },
   "outputs": [],
   "source": [
    "# prediction on Training data\n",
    "training_data_prediction = lass_reg_model.predict(X_train)"
   ]
  },
  {
   "cell_type": "code",
   "execution_count": 25,
   "id": "b541d7d9",
   "metadata": {
    "execution": {
     "iopub.execute_input": "2022-09-20T07:06:28.356737Z",
     "iopub.status.busy": "2022-09-20T07:06:28.355608Z",
     "iopub.status.idle": "2022-09-20T07:06:28.366246Z",
     "shell.execute_reply": "2022-09-20T07:06:28.364285Z"
    },
    "id": "D4HRAQMd8H4_",
    "outputId": "7e203eca-9fd7-4fb1-f2fa-12b117e1edac",
    "papermill": {
     "duration": 0.026969,
     "end_time": "2022-09-20T07:06:28.369186",
     "exception": false,
     "start_time": "2022-09-20T07:06:28.342217",
     "status": "completed"
    },
    "tags": []
   },
   "outputs": [
    {
     "name": "stdout",
     "output_type": "stream",
     "text": [
      "R squared Error :  0.8424480718240743\n"
     ]
    }
   ],
   "source": [
    "# R squared Error\n",
    "error_score = metrics.r2_score(Y_train, training_data_prediction)\n",
    "print(\"R squared Error : \", error_score)"
   ]
  },
  {
   "cell_type": "markdown",
   "id": "3f5adc6d",
   "metadata": {
    "id": "kRo68z988H5B",
    "papermill": {
     "duration": 0.009685,
     "end_time": "2022-09-20T07:06:28.389840",
     "exception": false,
     "start_time": "2022-09-20T07:06:28.380155",
     "status": "completed"
    },
    "tags": []
   },
   "source": [
    "Visualize the actual prices and Predicted prices"
   ]
  },
  {
   "cell_type": "code",
   "execution_count": 26,
   "id": "9b7da765",
   "metadata": {
    "execution": {
     "iopub.execute_input": "2022-09-20T07:06:28.412170Z",
     "iopub.status.busy": "2022-09-20T07:06:28.411776Z",
     "iopub.status.idle": "2022-09-20T07:06:28.578948Z",
     "shell.execute_reply": "2022-09-20T07:06:28.578033Z"
    },
    "id": "kXjzFcgu8H5C",
    "outputId": "9d4abbc8-53e5-49cc-b7f8-38a55522dae3",
    "papermill": {
     "duration": 0.180909,
     "end_time": "2022-09-20T07:06:28.581009",
     "exception": false,
     "start_time": "2022-09-20T07:06:28.400100",
     "status": "completed"
    },
    "tags": []
   },
   "outputs": [
    {
     "data": {
      "image/png": "[encoded data removed]",
      "text/plain": [
       "<Figure size 432x288 with 1 Axes>"
      ]
     },
     "metadata": {
      "needs_background": "light"
     },
     "output_type": "display_data"
    }
   ],
   "source": [
    "plt.scatter(Y_train, training_data_prediction)\n",
    "plt.xlabel(\"Actual Price\")\n",
    "plt.ylabel(\"Predicted Price\")\n",
    "plt.title(\" Actual Prices vs Predicted Prices\")\n",
    "plt.show()"
   ]
  },
  {
   "cell_type": "code",
   "execution_count": 27,
   "id": "dc19dda8",
   "metadata": {
    "execution": {
     "iopub.execute_input": "2022-09-20T07:06:28.607244Z",
     "iopub.status.busy": "2022-09-20T07:06:28.606759Z",
     "iopub.status.idle": "2022-09-20T07:06:28.613128Z",
     "shell.execute_reply": "2022-09-20T07:06:28.612123Z"
    },
    "id": "pHXUgmyt8H5E",
    "papermill": {
     "duration": 0.023,
     "end_time": "2022-09-20T07:06:28.615339",
     "exception": false,
     "start_time": "2022-09-20T07:06:28.592339",
     "status": "completed"
    },
    "tags": []
   },
   "outputs": [],
   "source": [
    "# prediction on Training data\n",
    "test_data_prediction = lass_reg_model.predict(X_test)"
   ]
  },
  {
   "cell_type": "code",
   "execution_count": 28,
   "id": "3f38fbbe",
   "metadata": {
    "execution": {
     "iopub.execute_input": "2022-09-20T07:06:28.638292Z",
     "iopub.status.busy": "2022-09-20T07:06:28.637941Z",
     "iopub.status.idle": "2022-09-20T07:06:28.645316Z",
     "shell.execute_reply": "2022-09-20T07:06:28.643418Z"
    },
    "id": "ctVd_TB48H5E",
    "outputId": "690c8dba-38aa-4d5e-be47-9232da61e0b8",
    "papermill": {
     "duration": 0.02235,
     "end_time": "2022-09-20T07:06:28.648012",
     "exception": false,
     "start_time": "2022-09-20T07:06:28.625662",
     "status": "completed"
    },
    "tags": []
   },
   "outputs": [
    {
     "name": "stdout",
     "output_type": "stream",
     "text": [
      "R squared Error :  0.8709763132343395\n"
     ]
    }
   ],
   "source": [
    "# R squared Error\n",
    "error_score = metrics.r2_score(Y_test, test_data_prediction)\n",
    "print(\"R squared Error : \", error_score)"
   ]
  },
  {
   "cell_type": "code",
   "execution_count": 29,
   "id": "fdc80d3a",
   "metadata": {
    "execution": {
     "iopub.execute_input": "2022-09-20T07:06:28.671694Z",
     "iopub.status.busy": "2022-09-20T07:06:28.671301Z",
     "iopub.status.idle": "2022-09-20T07:06:28.817641Z",
     "shell.execute_reply": "2022-09-20T07:06:28.816690Z"
    },
    "id": "W_iX2Ctv8H5F",
    "outputId": "f075de5b-09dc-411a-b243-9db9d86c0a0a",
    "papermill": {
     "duration": 0.160106,
     "end_time": "2022-09-20T07:06:28.819482",
     "exception": false,
     "start_time": "2022-09-20T07:06:28.659376",
     "status": "completed"
    },
    "tags": []
   },
   "outputs": [
    {
     "data": {
      "image/png": "[encoded data removed]",
      "text/plain": [
       "<Figure size 432x288 with 1 Axes>"
      ]
     },
     "metadata": {
      "needs_background": "light"
     },
     "output_type": "display_data"
    }
   ],
   "source": [
    "plt.scatter(Y_test, test_data_prediction)\n",
    "plt.xlabel(\"Actual Price\")\n",
    "plt.ylabel(\"Predicted Price\")\n",
    "plt.title(\" Actual Prices vs Predicted Prices\")\n",
    "plt.show()"
   ]
  }
 ],
 "metadata": {
  "kernelspec": {
   "display_name": "Python 3",
   "language": "python",
   "name": "python3"
  },
  "language_info": {
   "codemirror_mode": {
    "name": "ipython",
    "version": 3
   },
   "file_extension": ".py",
   "mimetype": "text/x-python",
   "name": "python",
   "nbconvert_exporter": "python",
   "pygments_lexer": "ipython3",
   "version": "3.7.12"
  },
  "papermill": {
   "default_parameters": {},
   "duration": 15.244943,
   "end_time": "2022-09-20T07:06:29.854082",
   "environment_variables": {},
   "exception": null,
   "input_path": "__notebook__.ipynb",
   "output_path": "__notebook__.ipynb",
   "parameters": {},
   "start_time": "2022-09-20T07:06:14.609139",
   "version": "2.3.4"
  }
 },
 "nbformat": 4,
 "nbformat_minor": 5
}
